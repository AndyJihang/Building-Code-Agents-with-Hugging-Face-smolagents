{
  "nbformat": 4,
  "nbformat_minor": 0,
  "metadata": {
    "colab": {
      "provenance": [],
      "authorship_tag": "ABX9TyNUTKYL1MsGTzq14K3kIWjA",
      "include_colab_link": true
    },
    "kernelspec": {
      "name": "python3",
      "display_name": "Python 3"
    },
    "language_info": {
      "name": "python"
    }
  },
  "cells": [
    {
      "cell_type": "markdown",
      "metadata": {
        "id": "view-in-github",
        "colab_type": "text"
      },
      "source": [
        "<a href=\"https://colab.research.google.com/github/AndyJihang/Building-Code-Agents-with-Hugging-Face-smolagents/blob/main/Secure_Code_Execution.ipynb\" target=\"_parent\"><img src=\"https://colab.research.google.com/assets/colab-badge.svg\" alt=\"Open In Colab\"/></a>"
      ]
    },
    {
      "cell_type": "markdown",
      "source": [
        "## Why you need secure code execution?\n",
        "\n",
        "Code agents generate and run code. Running that code directly on your machine is risky (file/system/network damage or secret exfiltration). The core defense is isolating execution in a sandbox.\n",
        "\n",
        "## Built-in local guards (baseline)\n",
        "\n",
        "`smolagent`s’ Python executor blocks most imports by default; you must explicitly allow modules via additional_authorized_imports (e.g., add numpy.random, matplotlib.pyplot if you truly need them). This mitigates many obvious attacks but isn’t a full boundary.\n",
        "\n",
        "## Two secure options\n",
        " * E2B Cloud Sandbox\n",
        " * Local containers\n",
        "\n",
        "## Quickstart: E2B for a single agent"
      ],
      "metadata": {
        "id": "FAsmKgChlt7O"
      }
    },
    {
      "cell_type": "code",
      "execution_count": 6,
      "metadata": {
        "id": "PTAHM5JXlTMl"
      },
      "outputs": [],
      "source": [
        "!pip install -q \"smolagents[e2b,openai]\""
      ]
    },
    {
      "cell_type": "code",
      "source": [
        "from smolagents.local_python_executor import LocalPythonExecutor\n",
        "\n",
        "custom_executor = LocalPythonExecutor([\"numpy\"])"
      ],
      "metadata": {
        "id": "u3KhbZ1xwXcu"
      },
      "execution_count": 7,
      "outputs": []
    },
    {
      "cell_type": "code",
      "source": [
        "def run_capture_exception(command: str):\n",
        "    try:\n",
        "        custom_executor(harmful_command)\n",
        "    except Exception as e:\n",
        "        print(\"ERROR:\\n\", e)"
      ],
      "metadata": {
        "id": "CVo5UTDTxXAs"
      },
      "execution_count": 8,
      "outputs": []
    },
    {
      "cell_type": "code",
      "source": [
        "# Example 1: non-defined command\n",
        "# In Jupyter it works\n",
        "!echo Bad command\n",
        "# In our interpreter, it does not.\n",
        "harmful_command = \"!echo Bad command\"\n",
        "run_capture_exception(harmful_command)"
      ],
      "metadata": {
        "colab": {
          "base_uri": "https://localhost:8080/"
        },
        "id": "FV1x3pcExXzA",
        "outputId": "0ebc1f8e-3701-4ea8-c053-8d40910cc962"
      },
      "execution_count": 13,
      "outputs": [
        {
          "output_type": "stream",
          "name": "stdout",
          "text": [
            "Bad command\n",
            "ERROR:\n",
            " Code parsing failed on line 1 due to: SyntaxError\n",
            "!echo Bad command\n",
            " ^\n",
            "Error: invalid syntax (<unknown>, line 1)\n"
          ]
        }
      ]
    },
    {
      "cell_type": "code",
      "source": [
        "# Example 2: os not imported\n",
        "harmful_command=\"\"\"\n",
        "import os\n",
        "exit_code = os.system(\"echo Bad command\")\n",
        "\"\"\"\n",
        "run_capture_exception(harmful_command)"
      ],
      "metadata": {
        "colab": {
          "base_uri": "https://localhost:8080/"
        },
        "id": "sGGHeKUq9lvy",
        "outputId": "7032e968-f7ab-402d-c2c4-30f325cb9046"
      },
      "execution_count": 14,
      "outputs": [
        {
          "output_type": "stream",
          "name": "stdout",
          "text": [
            "ERROR:\n",
            " Code execution failed at line 'import os' due to: InterpreterError: Import of os is not allowed. Authorized imports are: ['itertools', 'math', 'random', 'statistics', 'datetime', 'time', 're', 'unicodedata', 'collections', 'queue', 'stat', 'numpy']\n"
          ]
        }
      ]
    },
    {
      "cell_type": "code",
      "source": [
        "# Example 3: random._os.system not imported\n",
        "harmful_command=\"\"\"\n",
        "import random\n",
        "random._os.system('echo Bad command')\n",
        "\"\"\"\n",
        "run_capture_exception(harmful_command)"
      ],
      "metadata": {
        "colab": {
          "base_uri": "https://localhost:8080/"
        },
        "id": "NomCN8uL9rn4",
        "outputId": "ad6803b1-a082-4a84-fe50-bed5e219cfa9"
      },
      "execution_count": 15,
      "outputs": [
        {
          "output_type": "stream",
          "name": "stdout",
          "text": [
            "ERROR:\n",
            " Code execution failed at line 'random._os.system('echo Bad command')' due to: InterpreterError: Forbidden access to module: os\n"
          ]
        }
      ]
    },
    {
      "cell_type": "code",
      "source": [
        "# Example 4: infinite loop\n",
        "harmful_command=\"\"\"\n",
        "while True:\n",
        "    pass\n",
        "\"\"\"\n",
        "run_capture_exception(harmful_command)"
      ],
      "metadata": {
        "colab": {
          "base_uri": "https://localhost:8080/"
        },
        "id": "pH7IKrqx9we1",
        "outputId": "17a96385-4cab-484e-f7f3-37ac29671c55"
      },
      "execution_count": 16,
      "outputs": [
        {
          "output_type": "stream",
          "name": "stdout",
          "text": [
            "ERROR:\n",
            " Code execution failed at line 'while True:\n",
            "    pass' due to: InterpreterError: Maximum number of 1000000 iterations in While loop exceeded\n"
          ]
        }
      ]
    },
    {
      "cell_type": "code",
      "source": [
        "# Show the allowlist\n",
        "print(getattr(custom_executor, \"authorized_imports\", None))"
      ],
      "metadata": {
        "colab": {
          "base_uri": "https://localhost:8080/"
        },
        "id": "Kw7CubY8xbKo",
        "outputId": "cbe1b566-a53a-4e41-f27f-3ca239328281"
      },
      "execution_count": 12,
      "outputs": [
        {
          "output_type": "stream",
          "name": "stdout",
          "text": [
            "['itertools', 'math', 'random', 'statistics', 'datetime', 'time', 're', 'unicodedata', 'collections', 'queue', 'stat', 'numpy']\n"
          ]
        }
      ]
    },
    {
      "cell_type": "code",
      "source": [
        "# This last block (PIL spam) is intentionally not executed.\n",
        "custom_executor = LocalPythonExecutor([\"PIL\"])\n",
        "harmful_command = \"\"\"\n",
        "from PIL import Image\n",
        "img = Image.new('RGB', (100, 100), color='blue')\n",
        "i=0\n",
        "while i < 10000:\n",
        "    img.save(f'simple_image_{i}.png')\n",
        "    i += 1\n",
        "\"\"\"\n",
        "# custom_executor(harmful_command)"
      ],
      "metadata": {
        "id": "vZT98LocyNQx"
      },
      "execution_count": 19,
      "outputs": []
    },
    {
      "cell_type": "markdown",
      "source": [
        "## Running in a sandbox"
      ],
      "metadata": {
        "id": "fYMr8071-6aL"
      }
    },
    {
      "cell_type": "code",
      "source": [
        "from google.colab import userdata\n",
        "\n",
        "E2B_API_KEY = userdata.get(\"E2B_API_KEY\")\n",
        "OPENAI_API_KEY = userdata.get(\"OPENAI_API_KEY\")"
      ],
      "metadata": {
        "id": "nlqsJVUz-54B"
      },
      "execution_count": 21,
      "outputs": []
    },
    {
      "cell_type": "code",
      "source": [
        "from smolagents import CodeAgent, OpenAIServerModel, Tool\n",
        "\n",
        "# OpenAI model (replaces HfApiModel)\n",
        "model = OpenAIServerModel(\n",
        "    model_id=\"gpt-4o-mini\",                                 # keep small/cheap; change if you like\n",
        "    api_key=OPENAI_API_KEY,                   # read from env/.env\n",
        "    api_base=\"https://api.openai.com/v1\",\n",
        "    temperature=0.2,\n",
        ")"
      ],
      "metadata": {
        "id": "hyqco99jyNOY"
      },
      "execution_count": 22,
      "outputs": []
    },
    {
      "cell_type": "code",
      "source": [
        "class VisitWebpageTool(Tool):\n",
        "    name = \"visit_webpage\"\n",
        "    description = (\n",
        "        \"Visits a webpage at the given url and reads its content as a markdown string. Use this to browse webpages.\"\n",
        "    )\n",
        "    inputs = {\n",
        "        \"url\": {\n",
        "            \"type\": \"string\",\n",
        "            \"description\": \"The url of the webpage to visit.\",\n",
        "        }\n",
        "    }\n",
        "    output_type = \"string\"\n",
        "\n",
        "    def __init__(self, max_output_length: int = 40000):\n",
        "        super().__init__()\n",
        "        self.max_output_length = max_output_length\n",
        "\n",
        "    def _truncate(self, text: str, n: int) -> str:\n",
        "        if text is None: return \"\"\n",
        "        return text if len(text) <= n else (text[: n-3] + \"...\")\n",
        "\n",
        "    def forward(self, url: str) -> str:\n",
        "        try:\n",
        "            import re, requests\n",
        "            from markdownify import markdownify\n",
        "        except ImportError as e:\n",
        "            raise ImportError(\n",
        "                \"Please `pip install requests markdownify` in your environment.\"\n",
        "            ) from e\n",
        "        try:\n",
        "            resp = requests.get(url, timeout=20)\n",
        "            resp.raise_for_status()\n",
        "            md = markdownify(resp.text).strip()\n",
        "            md = re.sub(r\"\\n{3,}\", \"\\n\\n\", md)\n",
        "            return self._truncate(md, self.max_output_length)\n",
        "        except requests.exceptions.Timeout:\n",
        "            return \"The request timed out. Please try again later or check the URL.\"\n",
        "        except requests.exceptions.RequestException as e:\n",
        "            return f\"Error fetching the webpage: {e}\"\n",
        "        except Exception as e:\n",
        "            return f\"An unexpected error occurred: {e}\"\n",
        "\n",
        "agent = CodeAgent(\n",
        "    tools=[VisitWebpageTool()],\n",
        "    model=model,\n",
        "    executor_type=\"e2b\",\n",
        "    executor_kwargs={\"api_key\": E2B_API_KEY},\n",
        "    # Allow the sandbox to install/use these plain libs if the model writes code that uses them\n",
        "    additional_authorized_imports=[\"requests\", \"markdownify\"],\n",
        "    max_steps=1,                 # allow one self-fix step if needed\n",
        ")\n"
      ],
      "metadata": {
        "colab": {
          "base_uri": "https://localhost:8080/",
          "height": 544
        },
        "id": "PD1LDtJayNMT",
        "outputId": "967b7eae-fbe4-4808-ab54-c7c986b55829"
      },
      "execution_count": 32,
      "outputs": [
        {
          "output_type": "display_data",
          "data": {
            "text/plain": [
              "Initializing executor, hold on...\n"
            ],
            "text/html": [
              "<pre style=\"white-space:pre;overflow-x:auto;line-height:normal;font-family:Menlo,'DejaVu Sans Mono',consolas,'Courier New',monospace\">Initializing executor, hold on...\n",
              "</pre>\n"
            ]
          },
          "metadata": {}
        },
        {
          "output_type": "display_data",
          "data": {
            "text/plain": [
              "Requirement already satisfied: requests in /usr/local/lib/python3.12/site-packages (2.32.4)\n",
              "\n",
              "Collecting markdownify\n",
              "\n",
              "  Downloading markdownify-1.2.0-py3-none-any.whl.metadata (9.9 kB)\n",
              "Requirement already satisfied: charset_normalizer<4,>=2 in /usr/local/lib/python3.12/site-packages (from requests) \n",
              "(3.4.3)\n",
              "Requirement already satisfied: idna<4,>=2.5 in /usr/local/lib/python3.12/site-packages (from requests) (3.10)\n",
              "Requirement already satisfied: urllib3<3,>=1.21.1 in /usr/local/lib/python3.12/site-packages (from requests) \n",
              "(2.5.0)\n",
              "Requirement already satisfied: certifi>=2017.4.17 in /usr/local/lib/python3.12/site-packages (from requests) \n",
              "(2025.8.3)\n",
              "Requirement already satisfied: beautifulsoup4<5,>=4.9 in /usr/local/lib/python3.12/site-packages (from markdownify)\n",
              "(4.13.4)\n",
              "Requirement already satisfied: six<2,>=1.15 in /usr/local/lib/python3.12/site-packages (from markdownify) (1.17.0)\n",
              "Requirement already satisfied: soupsieve>1.2 in /usr/local/lib/python3.12/site-packages (from \n",
              "beautifulsoup4<5,>=4.9->markdownify) (2.7)\n",
              "Requirement already satisfied: typing-extensions>=4.0.0 in /usr/local/lib/python3.12/site-packages (from \n",
              "beautifulsoup4<5,>=4.9->markdownify) (4.14.1)\n",
              "\n",
              "Downloading markdownify-1.2.0-py3-none-any.whl (15 kB)\n",
              "\n",
              "Installing collected packages: markdownify\n",
              "\n",
              "Successfully installed markdownify-1.2.0\n",
              "\u001b[33mWARNING: Running pip as the 'root' user can result in broken permissions and conflicting behaviour with the \n",
              "system package manager, possibly rendering your system unusable. It is recommended to use a virtual environment \n",
              "instead: https://pip.pypa.io/warnings/venv. Use the --root-user-action option if you know what you are doing and \n",
              "want to suppress this warning.\u001b[0m\u001b[33m\n",
              "\u001b[0m\n"
            ],
            "text/html": [
              "<pre style=\"white-space:pre;overflow-x:auto;line-height:normal;font-family:Menlo,'DejaVu Sans Mono',consolas,'Courier New',monospace\">Requirement already satisfied: requests in /usr/local/lib/python3.12/site-packages (2.32.4)\n",
              "\n",
              "Collecting markdownify\n",
              "\n",
              "  Downloading markdownify-1.2.0-py3-none-any.whl.metadata (9.9 kB)\n",
              "Requirement already satisfied: charset_normalizer&lt;4,&gt;=2 in /usr/local/lib/python3.12/site-packages (from requests) \n",
              "(3.4.3)\n",
              "Requirement already satisfied: idna&lt;4,&gt;=2.5 in /usr/local/lib/python3.12/site-packages (from requests) (3.10)\n",
              "Requirement already satisfied: urllib3&lt;3,&gt;=1.21.1 in /usr/local/lib/python3.12/site-packages (from requests) \n",
              "(2.5.0)\n",
              "Requirement already satisfied: certifi&gt;=2017.4.17 in /usr/local/lib/python3.12/site-packages (from requests) \n",
              "(2025.8.3)\n",
              "Requirement already satisfied: beautifulsoup4&lt;5,&gt;=4.9 in /usr/local/lib/python3.12/site-packages (from markdownify)\n",
              "(4.13.4)\n",
              "Requirement already satisfied: six&lt;2,&gt;=1.15 in /usr/local/lib/python3.12/site-packages (from markdownify) (1.17.0)\n",
              "Requirement already satisfied: soupsieve&gt;1.2 in /usr/local/lib/python3.12/site-packages (from \n",
              "beautifulsoup4&lt;5,&gt;=4.9-&gt;markdownify) (2.7)\n",
              "Requirement already satisfied: typing-extensions&gt;=4.0.0 in /usr/local/lib/python3.12/site-packages (from \n",
              "beautifulsoup4&lt;5,&gt;=4.9-&gt;markdownify) (4.14.1)\n",
              "\n",
              "Downloading markdownify-1.2.0-py3-none-any.whl (15 kB)\n",
              "\n",
              "Installing collected packages: markdownify\n",
              "\n",
              "Successfully installed markdownify-1.2.0\n",
              "\u001b[33mWARNING: Running pip as the 'root' user can result in broken permissions and conflicting behaviour with the \n",
              "system package manager, possibly rendering your system unusable. It is recommended to use a virtual environment \n",
              "instead: https://pip.pypa.io/warnings/venv. Use the --root-user-action option if you know what you are doing and \n",
              "want to suppress this warning.\u001b[0m\u001b[33m\n",
              "\u001b[0m\n",
              "</pre>\n"
            ]
          },
          "metadata": {}
        },
        {
          "output_type": "display_data",
          "data": {
            "text/plain": [
              "E2B is running\n"
            ],
            "text/html": [
              "<pre style=\"white-space:pre;overflow-x:auto;line-height:normal;font-family:Menlo,'DejaVu Sans Mono',consolas,'Courier New',monospace\">E2B is running\n",
              "</pre>\n"
            ]
          },
          "metadata": {}
        }
      ]
    },
    {
      "cell_type": "code",
      "source": [
        "prompt = (\n",
        "  \"Use the `visit_webpage` tool to fetch https://github.com/huggingface?tab=repositories. \"\n",
        "  \"Do NOT print the raw page content. Extract ONE top repo (prefer a pinned repo; otherwise the highest-star repo \"\n",
        "  \"you can see). Print exactly: name: <name> | url: <url>. Then STOP.\"\n",
        ")\n",
        "out = agent.run(prompt)\n",
        "print(out)"
      ],
      "metadata": {
        "colab": {
          "base_uri": "https://localhost:8080/",
          "height": 274
        },
        "id": "bkiwa0YSyNKL",
        "outputId": "0334ff0d-397e-4c9c-afd9-50ada954ad3f"
      },
      "execution_count": 34,
      "outputs": [
        {
          "output_type": "display_data",
          "data": {
            "text/plain": [
              "\u001b[38;2;212;183;2m╭─\u001b[0m\u001b[38;2;212;183;2m───────────────────────────────────────────────────\u001b[0m\u001b[38;2;212;183;2m \u001b[0m\u001b[1;38;2;212;183;2mNew run\u001b[0m\u001b[38;2;212;183;2m \u001b[0m\u001b[38;2;212;183;2m───────────────────────────────────────────────────\u001b[0m\u001b[38;2;212;183;2m─╮\u001b[0m\n",
              "\u001b[38;2;212;183;2m│\u001b[0m                                                                                                                 \u001b[38;2;212;183;2m│\u001b[0m\n",
              "\u001b[38;2;212;183;2m│\u001b[0m \u001b[1mUse the `visit_webpage` tool to fetch https://github.com/huggingface?tab=repositories. Do NOT print the raw \u001b[0m    \u001b[38;2;212;183;2m│\u001b[0m\n",
              "\u001b[38;2;212;183;2m│\u001b[0m \u001b[1mpage content. Extract ONE top repo (prefer a pinned repo; otherwise the highest-star repo you can see). Print \u001b[0m  \u001b[38;2;212;183;2m│\u001b[0m\n",
              "\u001b[38;2;212;183;2m│\u001b[0m \u001b[1mexactly: name: <name> | url: <url>. Then STOP.\u001b[0m                                                                  \u001b[38;2;212;183;2m│\u001b[0m\n",
              "\u001b[38;2;212;183;2m│\u001b[0m                                                                                                                 \u001b[38;2;212;183;2m│\u001b[0m\n",
              "\u001b[38;2;212;183;2m╰─\u001b[0m\u001b[38;2;212;183;2m OpenAIServerModel - gpt-4o-mini \u001b[0m\u001b[38;2;212;183;2m──────────────────────────────────────────────────────────────────────────────\u001b[0m\u001b[38;2;212;183;2m─╯\u001b[0m\n"
            ],
            "text/html": [
              "<pre style=\"white-space:pre;overflow-x:auto;line-height:normal;font-family:Menlo,'DejaVu Sans Mono',consolas,'Courier New',monospace\"><span style=\"color: #d4b702; text-decoration-color: #d4b702\">╭──────────────────────────────────────────────────── </span><span style=\"color: #d4b702; text-decoration-color: #d4b702; font-weight: bold\">New run</span><span style=\"color: #d4b702; text-decoration-color: #d4b702\"> ────────────────────────────────────────────────────╮</span>\n",
              "<span style=\"color: #d4b702; text-decoration-color: #d4b702\">│</span>                                                                                                                 <span style=\"color: #d4b702; text-decoration-color: #d4b702\">│</span>\n",
              "<span style=\"color: #d4b702; text-decoration-color: #d4b702\">│</span> <span style=\"font-weight: bold\">Use the `visit_webpage` tool to fetch https://github.com/huggingface?tab=repositories. Do NOT print the raw </span>    <span style=\"color: #d4b702; text-decoration-color: #d4b702\">│</span>\n",
              "<span style=\"color: #d4b702; text-decoration-color: #d4b702\">│</span> <span style=\"font-weight: bold\">page content. Extract ONE top repo (prefer a pinned repo; otherwise the highest-star repo you can see). Print </span>  <span style=\"color: #d4b702; text-decoration-color: #d4b702\">│</span>\n",
              "<span style=\"color: #d4b702; text-decoration-color: #d4b702\">│</span> <span style=\"font-weight: bold\">exactly: name: &lt;name&gt; | url: &lt;url&gt;. Then STOP.</span>                                                                  <span style=\"color: #d4b702; text-decoration-color: #d4b702\">│</span>\n",
              "<span style=\"color: #d4b702; text-decoration-color: #d4b702\">│</span>                                                                                                                 <span style=\"color: #d4b702; text-decoration-color: #d4b702\">│</span>\n",
              "<span style=\"color: #d4b702; text-decoration-color: #d4b702\">╰─ OpenAIServerModel - gpt-4o-mini ───────────────────────────────────────────────────────────────────────────────╯</span>\n",
              "</pre>\n"
            ]
          },
          "metadata": {}
        },
        {
          "output_type": "display_data",
          "data": {
            "text/plain": [
              "\n"
            ],
            "text/html": [
              "<pre style=\"white-space:pre;overflow-x:auto;line-height:normal;font-family:Menlo,'DejaVu Sans Mono',consolas,'Courier New',monospace\">\n",
              "</pre>\n"
            ]
          },
          "metadata": {}
        },
        {
          "output_type": "display_data",
          "data": {
            "text/plain": [
              "\u001b[38;2;212;183;2m━━━━━━━━━━━━━━━━━━━━━━━━━━━━━━━━━━━━━━━━━━━━━━━━━━━━━ \u001b[0m\u001b[1mStep 1\u001b[0m\u001b[38;2;212;183;2m ━━━━━━━━━━━━━━━━━━━━━━━━━━━━━━━━━━━━━━━━━━━━━━━━━━━━━━\u001b[0m\n"
            ],
            "text/html": [
              "<pre style=\"white-space:pre;overflow-x:auto;line-height:normal;font-family:Menlo,'DejaVu Sans Mono',consolas,'Courier New',monospace\"><span style=\"color: #d4b702; text-decoration-color: #d4b702\">━━━━━━━━━━━━━━━━━━━━━━━━━━━━━━━━━━━━━━━━━━━━━━━━━━━━━ </span><span style=\"font-weight: bold\">Step 1</span><span style=\"color: #d4b702; text-decoration-color: #d4b702\"> ━━━━━━━━━━━━━━━━━━━━━━━━━━━━━━━━━━━━━━━━━━━━━━━━━━━━━━</span>\n",
              "</pre>\n"
            ]
          },
          "metadata": {}
        },
        {
          "output_type": "display_data",
          "data": {
            "text/plain": [
              " ─ \u001b[1mExecuting parsed code:\u001b[0m ──────────────────────────────────────────────────────────────────────────────────────── \n",
              "  \u001b[38;2;248;248;242;48;2;39;40;34mpage_content\u001b[0m\u001b[38;2;248;248;242;48;2;39;40;34m \u001b[0m\u001b[38;2;255;70;137;48;2;39;40;34m=\u001b[0m\u001b[38;2;248;248;242;48;2;39;40;34m \u001b[0m\u001b[38;2;248;248;242;48;2;39;40;34mvisit_webpage\u001b[0m\u001b[38;2;248;248;242;48;2;39;40;34m(\u001b[0m\u001b[38;2;230;219;116;48;2;39;40;34m\"\u001b[0m\u001b[38;2;230;219;116;48;2;39;40;34mhttps://github.com/huggingface?tab=repositories\u001b[0m\u001b[38;2;230;219;116;48;2;39;40;34m\"\u001b[0m\u001b[38;2;248;248;242;48;2;39;40;34m)\u001b[0m\u001b[48;2;39;40;34m                                \u001b[0m  \n",
              " ───────────────────────────────────────────────────────────────────────────────────────────────────────────────── \n"
            ],
            "text/html": [
              "<pre style=\"white-space:pre;overflow-x:auto;line-height:normal;font-family:Menlo,'DejaVu Sans Mono',consolas,'Courier New',monospace\"> ─ <span style=\"font-weight: bold\">Executing parsed code:</span> ──────────────────────────────────────────────────────────────────────────────────────── \n",
              "  <span style=\"color: #f8f8f2; text-decoration-color: #f8f8f2; background-color: #272822\">page_content </span><span style=\"color: #ff4689; text-decoration-color: #ff4689; background-color: #272822\">=</span><span style=\"color: #f8f8f2; text-decoration-color: #f8f8f2; background-color: #272822\"> visit_webpage(</span><span style=\"color: #e6db74; text-decoration-color: #e6db74; background-color: #272822\">\"https://github.com/huggingface?tab=repositories\"</span><span style=\"color: #f8f8f2; text-decoration-color: #f8f8f2; background-color: #272822\">)</span><span style=\"background-color: #272822\">                                </span>  \n",
              " ───────────────────────────────────────────────────────────────────────────────────────────────────────────────── \n",
              "</pre>\n"
            ]
          },
          "metadata": {}
        },
        {
          "output_type": "display_data",
          "data": {
            "text/plain": [
              "Out: None\n"
            ],
            "text/html": [
              "<pre style=\"white-space:pre;overflow-x:auto;line-height:normal;font-family:Menlo,'DejaVu Sans Mono',consolas,'Courier New',monospace\">Out: None\n",
              "</pre>\n"
            ]
          },
          "metadata": {}
        },
        {
          "output_type": "display_data",
          "data": {
            "text/plain": [
              "\u001b[2m[Step 1: Duration 2.23 seconds| Input tokens: 2,094 | Output tokens: 95]\u001b[0m\n"
            ],
            "text/html": [
              "<pre style=\"white-space:pre;overflow-x:auto;line-height:normal;font-family:Menlo,'DejaVu Sans Mono',consolas,'Courier New',monospace\"><span style=\"color: #7f7f7f; text-decoration-color: #7f7f7f\">[Step 1: Duration 2.23 seconds| Input tokens: 2,094 | Output tokens: 95]</span>\n",
              "</pre>\n"
            ]
          },
          "metadata": {}
        },
        {
          "output_type": "display_data",
          "data": {
            "text/plain": [
              "\u001b[1;31mReached max steps.\u001b[0m\n"
            ],
            "text/html": [
              "<pre style=\"white-space:pre;overflow-x:auto;line-height:normal;font-family:Menlo,'DejaVu Sans Mono',consolas,'Courier New',monospace\"><span style=\"color: #800000; text-decoration-color: #800000; font-weight: bold\">Reached max steps.</span>\n",
              "</pre>\n"
            ]
          },
          "metadata": {}
        },
        {
          "output_type": "display_data",
          "data": {
            "text/plain": [
              "\u001b[2m[Step 2: Duration 0.54 seconds| Input tokens: 2,462 | Output tokens: 112]\u001b[0m\n"
            ],
            "text/html": [
              "<pre style=\"white-space:pre;overflow-x:auto;line-height:normal;font-family:Menlo,'DejaVu Sans Mono',consolas,'Courier New',monospace\"><span style=\"color: #7f7f7f; text-decoration-color: #7f7f7f\">[Step 2: Duration 0.54 seconds| Input tokens: 2,462 | Output tokens: 112]</span>\n",
              "</pre>\n"
            ]
          },
          "metadata": {}
        },
        {
          "output_type": "stream",
          "name": "stdout",
          "text": [
            "name: transformers | url: https://github.com/huggingface/transformers\n"
          ]
        }
      ]
    }
  ]
}